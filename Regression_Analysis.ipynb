{
  "nbformat": 4,
  "nbformat_minor": 0,
  "metadata": {
    "colab": {
      "name": "Regression_Analysis.ipynb",
      "provenance": [],
      "authorship_tag": "ABX9TyMs++0um962HEL8+GvXJ5t1",
      "include_colab_link": true
    },
    "kernelspec": {
      "name": "python3",
      "display_name": "Python 3"
    },
    "language_info": {
      "name": "python"
    }
  },
  "cells": [
    {
      "cell_type": "markdown",
      "metadata": {
        "id": "view-in-github",
        "colab_type": "text"
      },
      "source": [
        "<a href=\"https://colab.research.google.com/github/yadavrahyl2k15/Multiple-Linear-Regression/blob/master/Regression_Analysis.ipynb\" target=\"_parent\"><img src=\"https://colab.research.google.com/assets/colab-badge.svg\" alt=\"Open In Colab\"/></a>"
      ]
    },
    {
      "cell_type": "code",
      "metadata": {
        "id": "9ZyFHOLctPE8"
      },
      "source": [
        "import pandas as pd\n",
        "import numpy as np\n",
        "import matplotlib.pyplot as plt\n",
        "import statsmodels.api as sm"
      ],
      "execution_count": null,
      "outputs": []
    },
    {
      "cell_type": "code",
      "metadata": {
        "colab": {
          "base_uri": "https://localhost:8080/",
          "height": 204
        },
        "id": "DxSWTugsthNr",
        "outputId": "f013a9a8-e9b0-4f48-ae54-5c9a054f3649"
      },
      "source": [
        "data=pd.read_excel(\"/content/Book 3 (1).xlsx\")\n",
        "data.head()"
      ],
      "execution_count": null,
      "outputs": [
        {
          "output_type": "execute_result",
          "data": {
            "text/html": [
              "<div>\n",
              "<style scoped>\n",
              "    .dataframe tbody tr th:only-of-type {\n",
              "        vertical-align: middle;\n",
              "    }\n",
              "\n",
              "    .dataframe tbody tr th {\n",
              "        vertical-align: top;\n",
              "    }\n",
              "\n",
              "    .dataframe thead th {\n",
              "        text-align: right;\n",
              "    }\n",
              "</style>\n",
              "<table border=\"1\" class=\"dataframe\">\n",
              "  <thead>\n",
              "    <tr style=\"text-align: right;\">\n",
              "      <th></th>\n",
              "      <th>Scalessold</th>\n",
              "      <th>MonthsEmployed</th>\n",
              "    </tr>\n",
              "  </thead>\n",
              "  <tbody>\n",
              "    <tr>\n",
              "      <th>0</th>\n",
              "      <td>275</td>\n",
              "      <td>41</td>\n",
              "    </tr>\n",
              "    <tr>\n",
              "      <th>1</th>\n",
              "      <td>296</td>\n",
              "      <td>106</td>\n",
              "    </tr>\n",
              "    <tr>\n",
              "      <th>2</th>\n",
              "      <td>317</td>\n",
              "      <td>76</td>\n",
              "    </tr>\n",
              "    <tr>\n",
              "      <th>3</th>\n",
              "      <td>376</td>\n",
              "      <td>104</td>\n",
              "    </tr>\n",
              "    <tr>\n",
              "      <th>4</th>\n",
              "      <td>162</td>\n",
              "      <td>22</td>\n",
              "    </tr>\n",
              "  </tbody>\n",
              "</table>\n",
              "</div>"
            ],
            "text/plain": [
              "   Scalessold  MonthsEmployed\n",
              "0         275              41\n",
              "1         296             106\n",
              "2         317              76\n",
              "3         376             104\n",
              "4         162              22"
            ]
          },
          "metadata": {
            "tags": []
          },
          "execution_count": 6
        }
      ]
    },
    {
      "cell_type": "code",
      "metadata": {
        "colab": {
          "base_uri": "https://localhost:8080/",
          "height": 279
        },
        "id": "nppOv9F1ttYX",
        "outputId": "2ed302fc-bb2a-4423-c86c-54d84e5fafad"
      },
      "source": [
        "plt.figure()\n",
        "plt.scatter(data['MonthsEmployed'],data['Scalessold'])\n",
        "plt.xlabel(\"No. of months\")\n",
        "plt.ylabel(\"sales\")\n",
        "plt.show()"
      ],
      "execution_count": null,
      "outputs": [
        {
          "output_type": "display_data",
          "data": {
            "image/png": "[encoded data removed]",
            "text/plain": [
              "<Figure size 432x288 with 1 Axes>"
            ]
          },
          "metadata": {
            "tags": [],
            "needs_background": "light"
          }
        }
      ]
    },
    {
      "cell_type": "markdown",
      "metadata": {
        "id": "hqC_vBE9xL8s"
      },
      "source": [
        "scatter plot is showing that there is positive relationship between months and sales "
      ]
    },
    {
      "cell_type": "code",
      "metadata": {
        "colab": {
          "base_uri": "https://localhost:8080/"
        },
        "id": "vdLdOHQcuAoI",
        "outputId": "2c3b7363-c630-469f-e126-629ad6bf0e13"
      },
      "source": [
        "x=data['MonthsEmployed']\n",
        "y=data['Scalessold']\n",
        "x1=sm.add_constant(x)\n",
        "model=sm.OLS(y,x1)\n",
        "Model=model.fit()\n",
        "print(Model.summary())"
      ],
      "execution_count": null,
      "outputs": [
        {
          "output_type": "stream",
          "text": [
            "                            OLS Regression Results                            \n",
            "==============================================================================\n",
            "Dep. Variable:             Scalessold   R-squared:                       0.781\n",
            "Model:                            OLS   Adj. R-squared:                  0.764\n",
            "Method:                 Least Squares   F-statistic:                     46.41\n",
            "Date:                Thu, 18 Mar 2021   Prob (F-statistic):           1.24e-05\n",
            "Time:                        19:08:22   Log-Likelihood:                -78.745\n",
            "No. Observations:                  15   AIC:                             161.5\n",
            "Df Residuals:                      13   BIC:                             162.9\n",
            "Df Model:                           1                                         \n",
            "Covariance Type:            nonrobust                                         \n",
            "==================================================================================\n",
            "                     coef    std err          t      P>|t|      [0.025      0.975]\n",
            "----------------------------------------------------------------------------------\n",
            "const            111.2279     21.628      5.143      0.000      64.503     157.952\n",
            "MonthsEmployed     2.3768      0.349      6.812      0.000       1.623       3.131\n",
            "==============================================================================\n",
            "Omnibus:                        1.043   Durbin-Watson:                   2.261\n",
            "Prob(Omnibus):                  0.594   Jarque-Bera (JB):                0.723\n",
            "Skew:                           0.052   Prob(JB):                        0.697\n",
            "Kurtosis:                       1.930   Cond. No.                         105.\n",
            "==============================================================================\n",
            "\n",
            "Warnings:\n",
            "[1] Standard Errors assume that the covariance matrix of the errors is correctly specified.\n"
          ],
          "name": "stdout"
        },
        {
          "output_type": "stream",
          "text": [
            "/usr/local/lib/python3.7/dist-packages/scipy/stats/stats.py:1535: UserWarning: kurtosistest only valid for n>=20 ... continuing anyway, n=15\n",
            "  \"anyway, n=%i\" % int(n))\n"
          ],
          "name": "stderr"
        }
      ]
    },
    {
      "cell_type": "markdown",
      "metadata": {
        "id": "4Dq_LZ0MxmMD"
      },
      "source": [
        "from summary we found that model is good but when we draw residual plot to show its behaviour and finds model is good or bad"
      ]
    },
    {
      "cell_type": "code",
      "metadata": {
        "id": "U9gDG6cjuw8w"
      },
      "source": [
        "e=Model.resid_pearson"
      ],
      "execution_count": null,
      "outputs": []
    },
    {
      "cell_type": "code",
      "metadata": {
        "colab": {
          "base_uri": "https://localhost:8080/"
        },
        "id": "LeNdW1xGvcWz",
        "outputId": "3a55cd05-fdba-43e6-93a7-92f5fa55459d"
      },
      "source": [
        "e"
      ],
      "execution_count": null,
      "outputs": [
        {
          "output_type": "execute_result",
          "data": {
            "text/plain": [
              "array([ 1.33945744, -1.35645713,  0.50765989,  0.35518943, -0.03063607,\n",
              "        0.20702037,  1.08543558, -1.35411191, -0.34936157,  0.05163116,\n",
              "       -1.00208207, -0.56041143, -1.18121025,  1.62923113,  0.65864542])"
            ]
          },
          "metadata": {
            "tags": []
          },
          "execution_count": 16
        }
      ]
    },
    {
      "cell_type": "code",
      "metadata": {
        "id": "ui6vjOXovhMw"
      },
      "source": [
        "yhat=Model.predict(x1)"
      ],
      "execution_count": null,
      "outputs": []
    },
    {
      "cell_type": "code",
      "metadata": {
        "colab": {
          "base_uri": "https://localhost:8080/",
          "height": 282
        },
        "id": "5KotsWNJvlSK",
        "outputId": "58239908-1248-4552-b1e7-b400be1dd5e7"
      },
      "source": [
        "plt.scatter(yhat,e)"
      ],
      "execution_count": null,
      "outputs": [
        {
          "output_type": "execute_result",
          "data": {
            "text/plain": [
              "<matplotlib.collections.PathCollection at 0x7f3c0f356550>"
            ]
          },
          "metadata": {
            "tags": []
          },
          "execution_count": 18
        },
        {
          "output_type": "display_data",
          "data": {
            "image/png": "[encoded data removed]",
            "text/plain": [
              "<Figure size 432x288 with 1 Axes>"
            ]
          },
          "metadata": {
            "tags": [],
            "needs_background": "light"
          }
        }
      ]
    },
    {
      "cell_type": "markdown",
      "metadata": {
        "id": "EBuGXVPUx3px"
      },
      "source": [
        "there is curvelinear relation not a rectangular between residual and yhat.so we have to square independem=nt variable and we have now 2 independent variable."
      ]
    },
    {
      "cell_type": "code",
      "metadata": {
        "id": "psi4c9CQvuBv"
      },
      "source": [
        "x_sq=x**2"
      ],
      "execution_count": null,
      "outputs": []
    },
    {
      "cell_type": "code",
      "metadata": {
        "colab": {
          "base_uri": "https://localhost:8080/",
          "height": 533
        },
        "id": "LVi8rUHKvz3D",
        "outputId": "4f9ae548-708e-4af0-9a27-7383b4d8e802"
      },
      "source": [
        "x_new=np.column_stack((x,x_sq))\n",
        "y=data['Scalessold']\n",
        "x2=sm.add_constant(x_new)\n",
        "model=sm.OLS(y,x2)\n",
        "Model=model.fit()\n",
        "Model.summary()"
      ],
      "execution_count": null,
      "outputs": [
        {
          "output_type": "stream",
          "text": [
            "/usr/local/lib/python3.7/dist-packages/scipy/stats/stats.py:1535: UserWarning: kurtosistest only valid for n>=20 ... continuing anyway, n=15\n",
            "  \"anyway, n=%i\" % int(n))\n"
          ],
          "name": "stderr"
        },
        {
          "output_type": "execute_result",
          "data": {
            "text/html": [
              "<table class=\"simpletable\">\n",
              "<caption>OLS Regression Results</caption>\n",
              "<tr>\n",
              "  <th>Dep. Variable:</th>       <td>Scalessold</td>    <th>  R-squared:         </th> <td>   0.902</td>\n",
              "</tr>\n",
              "<tr>\n",
              "  <th>Model:</th>                   <td>OLS</td>       <th>  Adj. R-squared:    </th> <td>   0.886</td>\n",
              "</tr>\n",
              "<tr>\n",
              "  <th>Method:</th>             <td>Least Squares</td>  <th>  F-statistic:       </th> <td>   55.36</td>\n",
              "</tr>\n",
              "<tr>\n",
              "  <th>Date:</th>             <td>Thu, 18 Mar 2021</td> <th>  Prob (F-statistic):</th> <td>8.75e-07</td>\n",
              "</tr>\n",
              "<tr>\n",
              "  <th>Time:</th>                 <td>19:14:28</td>     <th>  Log-Likelihood:    </th> <td> -72.704</td>\n",
              "</tr>\n",
              "<tr>\n",
              "  <th>No. Observations:</th>      <td>    15</td>      <th>  AIC:               </th> <td>   151.4</td>\n",
              "</tr>\n",
              "<tr>\n",
              "  <th>Df Residuals:</th>          <td>    12</td>      <th>  BIC:               </th> <td>   153.5</td>\n",
              "</tr>\n",
              "<tr>\n",
              "  <th>Df Model:</th>              <td>     2</td>      <th>                     </th>     <td> </td>   \n",
              "</tr>\n",
              "<tr>\n",
              "  <th>Covariance Type:</th>      <td>nonrobust</td>    <th>                     </th>     <td> </td>   \n",
              "</tr>\n",
              "</table>\n",
              "<table class=\"simpletable\">\n",
              "<tr>\n",
              "    <td></td>       <th>coef</th>     <th>std err</th>      <th>t</th>      <th>P>|t|</th>  <th>[0.025</th>    <th>0.975]</th>  \n",
              "</tr>\n",
              "<tr>\n",
              "  <th>const</th> <td>   45.3476</td> <td>   22.775</td> <td>    1.991</td> <td> 0.070</td> <td>   -4.274</td> <td>   94.969</td>\n",
              "</tr>\n",
              "<tr>\n",
              "  <th>x1</th>    <td>    6.3448</td> <td>    1.058</td> <td>    5.998</td> <td> 0.000</td> <td>    4.040</td> <td>    8.650</td>\n",
              "</tr>\n",
              "<tr>\n",
              "  <th>x2</th>    <td>   -0.0345</td> <td>    0.009</td> <td>   -3.854</td> <td> 0.002</td> <td>   -0.054</td> <td>   -0.015</td>\n",
              "</tr>\n",
              "</table>\n",
              "<table class=\"simpletable\">\n",
              "<tr>\n",
              "  <th>Omnibus:</th>       <td> 2.162</td> <th>  Durbin-Watson:     </th> <td>   1.313</td>\n",
              "</tr>\n",
              "<tr>\n",
              "  <th>Prob(Omnibus):</th> <td> 0.339</td> <th>  Jarque-Bera (JB):  </th> <td>   1.003</td>\n",
              "</tr>\n",
              "<tr>\n",
              "  <th>Skew:</th>          <td>-0.126</td> <th>  Prob(JB):          </th> <td>   0.606</td>\n",
              "</tr>\n",
              "<tr>\n",
              "  <th>Kurtosis:</th>      <td> 1.758</td> <th>  Cond. No.          </th> <td>1.48e+04</td>\n",
              "</tr>\n",
              "</table><br/><br/>Warnings:<br/>[1] Standard Errors assume that the covariance matrix of the errors is correctly specified.<br/>[2] The condition number is large, 1.48e+04. This might indicate that there are<br/>strong multicollinearity or other numerical problems."
            ],
            "text/plain": [
              "<class 'statsmodels.iolib.summary.Summary'>\n",
              "\"\"\"\n",
              "                            OLS Regression Results                            \n",
              "==============================================================================\n",
              "Dep. Variable:             Scalessold   R-squared:                       0.902\n",
              "Model:                            OLS   Adj. R-squared:                  0.886\n",
              "Method:                 Least Squares   F-statistic:                     55.36\n",
              "Date:                Thu, 18 Mar 2021   Prob (F-statistic):           8.75e-07\n",
              "Time:                        19:14:28   Log-Likelihood:                -72.704\n",
              "No. Observations:                  15   AIC:                             151.4\n",
              "Df Residuals:                      12   BIC:                             153.5\n",
              "Df Model:                           2                                         \n",
              "Covariance Type:            nonrobust                                         \n",
              "==============================================================================\n",
              "                 coef    std err          t      P>|t|      [0.025      0.975]\n",
              "------------------------------------------------------------------------------\n",
              "const         45.3476     22.775      1.991      0.070      -4.274      94.969\n",
              "x1             6.3448      1.058      5.998      0.000       4.040       8.650\n",
              "x2            -0.0345      0.009     -3.854      0.002      -0.054      -0.015\n",
              "==============================================================================\n",
              "Omnibus:                        2.162   Durbin-Watson:                   1.313\n",
              "Prob(Omnibus):                  0.339   Jarque-Bera (JB):                1.003\n",
              "Skew:                          -0.126   Prob(JB):                        0.606\n",
              "Kurtosis:                       1.758   Cond. No.                     1.48e+04\n",
              "==============================================================================\n",
              "\n",
              "Warnings:\n",
              "[1] Standard Errors assume that the covariance matrix of the errors is correctly specified.\n",
              "[2] The condition number is large, 1.48e+04. This might indicate that there are\n",
              "strong multicollinearity or other numerical problems.\n",
              "\"\"\""
            ]
          },
          "metadata": {
            "tags": []
          },
          "execution_count": 23
        }
      ]
    },
    {
      "cell_type": "code",
      "metadata": {
        "id": "AZY7tetxwd2b"
      },
      "source": [
        "e1=Model.resid_pearson"
      ],
      "execution_count": null,
      "outputs": []
    },
    {
      "cell_type": "code",
      "metadata": {
        "id": "2wBOomzQwxeW"
      },
      "source": [
        "yhat=Model.predict(x2)"
      ],
      "execution_count": null,
      "outputs": []
    },
    {
      "cell_type": "code",
      "metadata": {
        "colab": {
          "base_uri": "https://localhost:8080/",
          "height": 298
        },
        "id": "272OGYOdw4GI",
        "outputId": "1cbbd6fb-e447-4fd9-e0cd-765b775bb99d"
      },
      "source": [
        "plt.scatter(yhat,e1)\n",
        "plt.title(\"Residual plot\")"
      ],
      "execution_count": null,
      "outputs": [
        {
          "output_type": "execute_result",
          "data": {
            "text/plain": [
              "Text(0.5, 1.0, 'Residual plot')"
            ]
          },
          "metadata": {
            "tags": []
          },
          "execution_count": 27
        },
        {
          "output_type": "display_data",
          "data": {
            "image/png": "[encoded data removed]",
            "text/plain": [
              "<Figure size 432x288 with 1 Axes>"
            ]
          },
          "metadata": {
            "tags": [],
            "needs_background": "light"
          }
        }
      ]
    },
    {
      "cell_type": "markdown",
      "metadata": {
        "id": "yW9qoMRZ1OAd"
      },
      "source": [
        "it is rectangular curve so model is good.\n"
      ]
    },
    {
      "cell_type": "markdown",
      "metadata": {
        "id": "Veov984v1E_C"
      },
      "source": [
        "# REGRESSION ANALYSIS INTERACTION"
      ]
    },
    {
      "cell_type": "code",
      "metadata": {
        "id": "s36SSG3Pw6w8"
      },
      "source": [
        "import pandas as pd\n",
        "import matplotlib.pyplot as plt\n",
        "import numpy as np\n",
        "import statsmodels.api as sm"
      ],
      "execution_count": null,
      "outputs": []
    },
    {
      "cell_type": "code",
      "metadata": {
        "colab": {
          "base_uri": "https://localhost:8080/",
          "height": 793
        },
        "id": "U0Fg-vrn1kGG",
        "outputId": "b9f55648-2016-4c8e-e047-d55cb5309d30"
      },
      "source": [
        "df=pd.read_excel(\"/content/Book 3 (2).xlsx\")\n",
        "df"
      ],
      "execution_count": null,
      "outputs": [
        {
          "output_type": "execute_result",
          "data": {
            "text/html": [
              "<div>\n",
              "<style scoped>\n",
              "    .dataframe tbody tr th:only-of-type {\n",
              "        vertical-align: middle;\n",
              "    }\n",
              "\n",
              "    .dataframe tbody tr th {\n",
              "        vertical-align: top;\n",
              "    }\n",
              "\n",
              "    .dataframe thead th {\n",
              "        text-align: right;\n",
              "    }\n",
              "</style>\n",
              "<table border=\"1\" class=\"dataframe\">\n",
              "  <thead>\n",
              "    <tr style=\"text-align: right;\">\n",
              "      <th></th>\n",
              "      <th>PRICE</th>\n",
              "      <th>EXPENDITURE</th>\n",
              "      <th>SALES</th>\n",
              "    </tr>\n",
              "  </thead>\n",
              "  <tbody>\n",
              "    <tr>\n",
              "      <th>0</th>\n",
              "      <td>2.0</td>\n",
              "      <td>50</td>\n",
              "      <td>478</td>\n",
              "    </tr>\n",
              "    <tr>\n",
              "      <th>1</th>\n",
              "      <td>2.5</td>\n",
              "      <td>50</td>\n",
              "      <td>373</td>\n",
              "    </tr>\n",
              "    <tr>\n",
              "      <th>2</th>\n",
              "      <td>3.0</td>\n",
              "      <td>50</td>\n",
              "      <td>335</td>\n",
              "    </tr>\n",
              "    <tr>\n",
              "      <th>3</th>\n",
              "      <td>2.0</td>\n",
              "      <td>50</td>\n",
              "      <td>473</td>\n",
              "    </tr>\n",
              "    <tr>\n",
              "      <th>4</th>\n",
              "      <td>2.5</td>\n",
              "      <td>50</td>\n",
              "      <td>358</td>\n",
              "    </tr>\n",
              "    <tr>\n",
              "      <th>5</th>\n",
              "      <td>3.0</td>\n",
              "      <td>50</td>\n",
              "      <td>329</td>\n",
              "    </tr>\n",
              "    <tr>\n",
              "      <th>6</th>\n",
              "      <td>2.0</td>\n",
              "      <td>50</td>\n",
              "      <td>456</td>\n",
              "    </tr>\n",
              "    <tr>\n",
              "      <th>7</th>\n",
              "      <td>2.5</td>\n",
              "      <td>50</td>\n",
              "      <td>360</td>\n",
              "    </tr>\n",
              "    <tr>\n",
              "      <th>8</th>\n",
              "      <td>3.0</td>\n",
              "      <td>50</td>\n",
              "      <td>322</td>\n",
              "    </tr>\n",
              "    <tr>\n",
              "      <th>9</th>\n",
              "      <td>2.0</td>\n",
              "      <td>50</td>\n",
              "      <td>437</td>\n",
              "    </tr>\n",
              "    <tr>\n",
              "      <th>10</th>\n",
              "      <td>2.5</td>\n",
              "      <td>50</td>\n",
              "      <td>365</td>\n",
              "    </tr>\n",
              "    <tr>\n",
              "      <th>11</th>\n",
              "      <td>3.0</td>\n",
              "      <td>50</td>\n",
              "      <td>342</td>\n",
              "    </tr>\n",
              "    <tr>\n",
              "      <th>12</th>\n",
              "      <td>2.0</td>\n",
              "      <td>100</td>\n",
              "      <td>810</td>\n",
              "    </tr>\n",
              "    <tr>\n",
              "      <th>13</th>\n",
              "      <td>2.5</td>\n",
              "      <td>100</td>\n",
              "      <td>653</td>\n",
              "    </tr>\n",
              "    <tr>\n",
              "      <th>14</th>\n",
              "      <td>3.0</td>\n",
              "      <td>100</td>\n",
              "      <td>345</td>\n",
              "    </tr>\n",
              "    <tr>\n",
              "      <th>15</th>\n",
              "      <td>2.0</td>\n",
              "      <td>100</td>\n",
              "      <td>832</td>\n",
              "    </tr>\n",
              "    <tr>\n",
              "      <th>16</th>\n",
              "      <td>2.5</td>\n",
              "      <td>100</td>\n",
              "      <td>641</td>\n",
              "    </tr>\n",
              "    <tr>\n",
              "      <th>17</th>\n",
              "      <td>3.0</td>\n",
              "      <td>100</td>\n",
              "      <td>372</td>\n",
              "    </tr>\n",
              "    <tr>\n",
              "      <th>18</th>\n",
              "      <td>2.0</td>\n",
              "      <td>100</td>\n",
              "      <td>800</td>\n",
              "    </tr>\n",
              "    <tr>\n",
              "      <th>19</th>\n",
              "      <td>2.5</td>\n",
              "      <td>100</td>\n",
              "      <td>620</td>\n",
              "    </tr>\n",
              "    <tr>\n",
              "      <th>20</th>\n",
              "      <td>3.0</td>\n",
              "      <td>100</td>\n",
              "      <td>390</td>\n",
              "    </tr>\n",
              "    <tr>\n",
              "      <th>21</th>\n",
              "      <td>2.0</td>\n",
              "      <td>100</td>\n",
              "      <td>790</td>\n",
              "    </tr>\n",
              "    <tr>\n",
              "      <th>22</th>\n",
              "      <td>2.5</td>\n",
              "      <td>100</td>\n",
              "      <td>670</td>\n",
              "    </tr>\n",
              "    <tr>\n",
              "      <th>23</th>\n",
              "      <td>3.0</td>\n",
              "      <td>100</td>\n",
              "      <td>393</td>\n",
              "    </tr>\n",
              "  </tbody>\n",
              "</table>\n",
              "</div>"
            ],
            "text/plain": [
              "    PRICE  EXPENDITURE  SALES\n",
              "0     2.0           50    478\n",
              "1     2.5           50    373\n",
              "2     3.0           50    335\n",
              "3     2.0           50    473\n",
              "4     2.5           50    358\n",
              "5     3.0           50    329\n",
              "6     2.0           50    456\n",
              "7     2.5           50    360\n",
              "8     3.0           50    322\n",
              "9     2.0           50    437\n",
              "10    2.5           50    365\n",
              "11    3.0           50    342\n",
              "12    2.0          100    810\n",
              "13    2.5          100    653\n",
              "14    3.0          100    345\n",
              "15    2.0          100    832\n",
              "16    2.5          100    641\n",
              "17    3.0          100    372\n",
              "18    2.0          100    800\n",
              "19    2.5          100    620\n",
              "20    3.0          100    390\n",
              "21    2.0          100    790\n",
              "22    2.5          100    670\n",
              "23    3.0          100    393"
            ]
          },
          "metadata": {
            "tags": []
          },
          "execution_count": 29
        }
      ]
    },
    {
      "cell_type": "code",
      "metadata": {
        "colab": {
          "base_uri": "https://localhost:8080/",
          "height": 279
        },
        "id": "MEmTFLts1pms",
        "outputId": "52d80738-a479-4a16-8707-7df2b9cc13cd"
      },
      "source": [
        "plt.figure()\n",
        "plt.scatter(df['PRICE'],df['SALES'],color='green')\n",
        "plt.ylabel('sale')\n",
        "plt.xlabel(\"price\")\n",
        "plt.show()"
      ],
      "execution_count": null,
      "outputs": [
        {
          "output_type": "display_data",
          "data": {
            "image/png": "[encoded data removed]",
            "text/plain": [
              "<Figure size 432x288 with 1 Axes>"
            ]
          },
          "metadata": {
            "tags": [],
            "needs_background": "light"
          }
        }
      ]
    },
    {
      "cell_type": "code",
      "metadata": {
        "colab": {
          "base_uri": "https://localhost:8080/",
          "height": 279
        },
        "id": "j6YS27OT2IYA",
        "outputId": "b6fdbb83-df8f-4f4f-9657-4dbd5d0ac08c"
      },
      "source": [
        "plt.figure()\n",
        "plt.scatter(df['EXPENDITURE'],df['SALES'],color='red')\n",
        "plt.ylabel('sale')\n",
        "plt.xlabel(\"EXPENDITURE\")\n",
        "plt.show()"
      ],
      "execution_count": null,
      "outputs": [
        {
          "output_type": "display_data",
          "data": {
            "image/png": "[encoded data removed]",
            "text/plain": [
              "<Figure size 432x288 with 1 Axes>"
            ]
          },
          "metadata": {
            "tags": [],
            "needs_background": "light"
          }
        }
      ]
    },
    {
      "cell_type": "markdown",
      "metadata": {
        "id": "rbNgPxHk2psN"
      },
      "source": [
        "since there are two independent variables for 1 dependendet variable.so \n",
        "y=z1x1+z2x2+z3x1x2"
      ]
    },
    {
      "cell_type": "code",
      "metadata": {
        "id": "C0O_1ziw2b4-"
      },
      "source": [
        "z1=df['EXPENDITURE']\n",
        "z2=df['PRICE']\n",
        "z3=z1*z2"
      ],
      "execution_count": null,
      "outputs": []
    },
    {
      "cell_type": "code",
      "metadata": {
        "colab": {
          "base_uri": "https://localhost:8080/",
          "height": 520
        },
        "id": "HzULWo2m3GsL",
        "outputId": "dd48e81f-5da9-45b2-e042-ae769adf2bd0"
      },
      "source": [
        "x_new=np.column_stack((z1,z2,z3))\n",
        "y=df['SALES']\n",
        "x=sm.add_constant(x_new)\n",
        "model=sm.OLS(y,x)\n",
        "Model=model.fit()\n",
        "Model.summary()"
      ],
      "execution_count": null,
      "outputs": [
        {
          "output_type": "execute_result",
          "data": {
            "text/html": [
              "<table class=\"simpletable\">\n",
              "<caption>OLS Regression Results</caption>\n",
              "<tr>\n",
              "  <th>Dep. Variable:</th>          <td>SALES</td>      <th>  R-squared:         </th> <td>   0.978</td>\n",
              "</tr>\n",
              "<tr>\n",
              "  <th>Model:</th>                   <td>OLS</td>       <th>  Adj. R-squared:    </th> <td>   0.975</td>\n",
              "</tr>\n",
              "<tr>\n",
              "  <th>Method:</th>             <td>Least Squares</td>  <th>  F-statistic:       </th> <td>   297.9</td>\n",
              "</tr>\n",
              "<tr>\n",
              "  <th>Date:</th>             <td>Thu, 18 Mar 2021</td> <th>  Prob (F-statistic):</th> <td>9.26e-17</td>\n",
              "</tr>\n",
              "<tr>\n",
              "  <th>Time:</th>                 <td>19:44:20</td>     <th>  Log-Likelihood:    </th> <td> -111.99</td>\n",
              "</tr>\n",
              "<tr>\n",
              "  <th>No. Observations:</th>      <td>    24</td>      <th>  AIC:               </th> <td>   232.0</td>\n",
              "</tr>\n",
              "<tr>\n",
              "  <th>Df Residuals:</th>          <td>    20</td>      <th>  BIC:               </th> <td>   236.7</td>\n",
              "</tr>\n",
              "<tr>\n",
              "  <th>Df Model:</th>              <td>     3</td>      <th>                     </th>     <td> </td>   \n",
              "</tr>\n",
              "<tr>\n",
              "  <th>Covariance Type:</th>      <td>nonrobust</td>    <th>                     </th>     <td> </td>   \n",
              "</tr>\n",
              "</table>\n",
              "<table class=\"simpletable\">\n",
              "<tr>\n",
              "    <td></td>       <th>coef</th>     <th>std err</th>      <th>t</th>      <th>P>|t|</th>  <th>[0.025</th>    <th>0.975]</th>  \n",
              "</tr>\n",
              "<tr>\n",
              "  <th>const</th> <td> -275.8333</td> <td>  112.842</td> <td>   -2.444</td> <td> 0.024</td> <td> -511.218</td> <td>  -40.449</td>\n",
              "</tr>\n",
              "<tr>\n",
              "  <th>x1</th>    <td>   19.6800</td> <td>    1.427</td> <td>   13.788</td> <td> 0.000</td> <td>   16.703</td> <td>   22.657</td>\n",
              "</tr>\n",
              "<tr>\n",
              "  <th>x2</th>    <td>  175.0000</td> <td>   44.547</td> <td>    3.928</td> <td> 0.001</td> <td>   82.077</td> <td>  267.923</td>\n",
              "</tr>\n",
              "<tr>\n",
              "  <th>x3</th>    <td>   -6.0800</td> <td>    0.563</td> <td>  -10.790</td> <td> 0.000</td> <td>   -7.255</td> <td>   -4.905</td>\n",
              "</tr>\n",
              "</table>\n",
              "<table class=\"simpletable\">\n",
              "<tr>\n",
              "  <th>Omnibus:</th>       <td> 0.641</td> <th>  Durbin-Watson:     </th> <td>   2.842</td>\n",
              "</tr>\n",
              "<tr>\n",
              "  <th>Prob(Omnibus):</th> <td> 0.726</td> <th>  Jarque-Bera (JB):  </th> <td>   0.565</td>\n",
              "</tr>\n",
              "<tr>\n",
              "  <th>Skew:</th>          <td> 0.335</td> <th>  Prob(JB):          </th> <td>   0.754</td>\n",
              "</tr>\n",
              "<tr>\n",
              "  <th>Kurtosis:</th>      <td> 2.661</td> <th>  Cond. No.          </th> <td>4.53e+03</td>\n",
              "</tr>\n",
              "</table><br/><br/>Warnings:<br/>[1] Standard Errors assume that the covariance matrix of the errors is correctly specified.<br/>[2] The condition number is large, 4.53e+03. This might indicate that there are<br/>strong multicollinearity or other numerical problems."
            ],
            "text/plain": [
              "<class 'statsmodels.iolib.summary.Summary'>\n",
              "\"\"\"\n",
              "                            OLS Regression Results                            \n",
              "==============================================================================\n",
              "Dep. Variable:                  SALES   R-squared:                       0.978\n",
              "Model:                            OLS   Adj. R-squared:                  0.975\n",
              "Method:                 Least Squares   F-statistic:                     297.9\n",
              "Date:                Thu, 18 Mar 2021   Prob (F-statistic):           9.26e-17\n",
              "Time:                        19:44:20   Log-Likelihood:                -111.99\n",
              "No. Observations:                  24   AIC:                             232.0\n",
              "Df Residuals:                      20   BIC:                             236.7\n",
              "Df Model:                           3                                         \n",
              "Covariance Type:            nonrobust                                         \n",
              "==============================================================================\n",
              "                 coef    std err          t      P>|t|      [0.025      0.975]\n",
              "------------------------------------------------------------------------------\n",
              "const       -275.8333    112.842     -2.444      0.024    -511.218     -40.449\n",
              "x1            19.6800      1.427     13.788      0.000      16.703      22.657\n",
              "x2           175.0000     44.547      3.928      0.001      82.077     267.923\n",
              "x3            -6.0800      0.563    -10.790      0.000      -7.255      -4.905\n",
              "==============================================================================\n",
              "Omnibus:                        0.641   Durbin-Watson:                   2.842\n",
              "Prob(Omnibus):                  0.726   Jarque-Bera (JB):                0.565\n",
              "Skew:                           0.335   Prob(JB):                        0.754\n",
              "Kurtosis:                       2.661   Cond. No.                     4.53e+03\n",
              "==============================================================================\n",
              "\n",
              "Warnings:\n",
              "[1] Standard Errors assume that the covariance matrix of the errors is correctly specified.\n",
              "[2] The condition number is large, 4.53e+03. This might indicate that there are\n",
              "strong multicollinearity or other numerical problems.\n",
              "\"\"\""
            ]
          },
          "metadata": {
            "tags": []
          },
          "execution_count": 36
        }
      ]
    },
    {
      "cell_type": "code",
      "metadata": {
        "id": "GVh4TQES3eHG"
      },
      "source": [
        ""
      ],
      "execution_count": null,
      "outputs": []
    }
  ]
}